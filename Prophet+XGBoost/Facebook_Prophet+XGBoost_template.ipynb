{
  "cells": [
    {
      "attachments": {},
      "cell_type": "markdown",
      "metadata": {
        "id": "pnkPpigAazur"
      },
      "source": [
        "### IMPORTANDO Y CARGANDO LAS LIBRERIAS\n",
        "\n",
        "---\n",
        "\n",
        "\n",
        "\n"
      ]
    },
    {
      "cell_type": "code",
      "execution_count": 2,
      "metadata": {},
      "outputs": [
        {
          "name": "stdout",
          "output_type": "stream",
          "text": [
            "c:\\Users\\leoma\\Desktop\\projects\\Modelos-de-Pronosticos-Series-Temporales-Python\\Prophet+XGBoost\n"
          ]
        }
      ],
      "source": [
        "%cd C:\\Users\\leoma\\Desktop\\projects\\Modelos-de-Pronosticos-Series-Temporales-Python\\Prophet+XGBoost"
      ]
    },
    {
      "cell_type": "code",
      "execution_count": 4,
      "metadata": {
        "id": "pcXogq0kQvpK"
      },
      "outputs": [],
      "source": [
        "#IMPORTAMOS LAS LIBRERIAS\n",
        "import xgboost as xgb\n",
        "import itertools\n",
        "from prophet import Prophet\n",
        "import pandas as pd\n",
        "import numpy as np"
      ]
    },
    {
      "cell_type": "code",
      "execution_count": 5,
      "metadata": {
        "colab": {
          "base_uri": "https://localhost:8080/",
          "height": 238
        },
        "id": "nw20luFXQ9kS",
        "outputId": "b2a7403f-8b59-4d39-e2e5-1753996e8fb2"
      },
      "outputs": [
        {
          "data": {
            "text/html": [
              "<div>\n",
              "<style scoped>\n",
              "    .dataframe tbody tr th:only-of-type {\n",
              "        vertical-align: middle;\n",
              "    }\n",
              "\n",
              "    .dataframe tbody tr th {\n",
              "        vertical-align: top;\n",
              "    }\n",
              "\n",
              "    .dataframe thead th {\n",
              "        text-align: right;\n",
              "    }\n",
              "</style>\n",
              "<table border=\"1\" class=\"dataframe\">\n",
              "  <thead>\n",
              "    <tr style=\"text-align: right;\">\n",
              "      <th></th>\n",
              "      <th>instant</th>\n",
              "      <th>dteday</th>\n",
              "      <th>season</th>\n",
              "      <th>yr</th>\n",
              "      <th>mnth</th>\n",
              "      <th>holiday</th>\n",
              "      <th>weekday</th>\n",
              "      <th>workingday</th>\n",
              "      <th>weathersit</th>\n",
              "      <th>temp</th>\n",
              "      <th>atemp</th>\n",
              "      <th>hum</th>\n",
              "      <th>windspeed</th>\n",
              "      <th>casual</th>\n",
              "      <th>registered</th>\n",
              "      <th>cnt</th>\n",
              "    </tr>\n",
              "  </thead>\n",
              "  <tbody>\n",
              "    <tr>\n",
              "      <th>0</th>\n",
              "      <td>1</td>\n",
              "      <td>2011-01-01</td>\n",
              "      <td>1</td>\n",
              "      <td>0</td>\n",
              "      <td>1</td>\n",
              "      <td>0</td>\n",
              "      <td>6</td>\n",
              "      <td>0</td>\n",
              "      <td>2</td>\n",
              "      <td>0.344167</td>\n",
              "      <td>0.363625</td>\n",
              "      <td>0.805833</td>\n",
              "      <td>0.160446</td>\n",
              "      <td>331</td>\n",
              "      <td>654</td>\n",
              "      <td>985</td>\n",
              "    </tr>\n",
              "  </tbody>\n",
              "</table>\n",
              "</div>"
            ],
            "text/plain": [
              "   instant      dteday  season  yr  mnth  holiday  weekday  workingday  \\\n",
              "0        1  2011-01-01       1   0     1        0        6           0   \n",
              "\n",
              "   weathersit      temp     atemp       hum  windspeed  casual  registered  \\\n",
              "0           2  0.344167  0.363625  0.805833   0.160446     331         654   \n",
              "\n",
              "   cnt  \n",
              "0  985  "
            ]
          },
          "execution_count": 5,
          "metadata": {},
          "output_type": "execute_result"
        }
      ],
      "source": [
        "#OBTENEMOS LOS DATOS\n",
        "data = pd.read_csv(\"Daily Bike Sharing.csv\")\n",
        "data.head(1)"
      ]
    },
    {
      "cell_type": "code",
      "execution_count": 6,
      "metadata": {
        "id": "43PwtMrHDJJz"
      },
      "outputs": [
        {
          "data": {
            "text/html": [
              "<div>\n",
              "<style scoped>\n",
              "    .dataframe tbody tr th:only-of-type {\n",
              "        vertical-align: middle;\n",
              "    }\n",
              "\n",
              "    .dataframe tbody tr th {\n",
              "        vertical-align: top;\n",
              "    }\n",
              "\n",
              "    .dataframe thead th {\n",
              "        text-align: right;\n",
              "    }\n",
              "</style>\n",
              "<table border=\"1\" class=\"dataframe\">\n",
              "  <thead>\n",
              "    <tr style=\"text-align: right;\">\n",
              "      <th></th>\n",
              "      <th>dteday</th>\n",
              "      <th>cnt</th>\n",
              "      <th>holiday</th>\n",
              "      <th>workingday</th>\n",
              "      <th>weathersit</th>\n",
              "      <th>temp</th>\n",
              "      <th>atemp</th>\n",
              "      <th>hum</th>\n",
              "      <th>windspeed</th>\n",
              "    </tr>\n",
              "  </thead>\n",
              "  <tbody>\n",
              "    <tr>\n",
              "      <th>0</th>\n",
              "      <td>2011-01-01</td>\n",
              "      <td>985</td>\n",
              "      <td>0</td>\n",
              "      <td>0</td>\n",
              "      <td>2</td>\n",
              "      <td>0.344167</td>\n",
              "      <td>0.363625</td>\n",
              "      <td>0.805833</td>\n",
              "      <td>0.160446</td>\n",
              "    </tr>\n",
              "    <tr>\n",
              "      <th>1</th>\n",
              "      <td>2011-01-02</td>\n",
              "      <td>801</td>\n",
              "      <td>0</td>\n",
              "      <td>0</td>\n",
              "      <td>2</td>\n",
              "      <td>0.363478</td>\n",
              "      <td>0.353739</td>\n",
              "      <td>0.696087</td>\n",
              "      <td>0.248539</td>\n",
              "    </tr>\n",
              "    <tr>\n",
              "      <th>2</th>\n",
              "      <td>2011-01-03</td>\n",
              "      <td>1349</td>\n",
              "      <td>0</td>\n",
              "      <td>1</td>\n",
              "      <td>1</td>\n",
              "      <td>0.196364</td>\n",
              "      <td>0.189405</td>\n",
              "      <td>0.437273</td>\n",
              "      <td>0.248309</td>\n",
              "    </tr>\n",
              "    <tr>\n",
              "      <th>3</th>\n",
              "      <td>2011-01-04</td>\n",
              "      <td>1562</td>\n",
              "      <td>0</td>\n",
              "      <td>1</td>\n",
              "      <td>1</td>\n",
              "      <td>0.200000</td>\n",
              "      <td>0.212122</td>\n",
              "      <td>0.590435</td>\n",
              "      <td>0.160296</td>\n",
              "    </tr>\n",
              "    <tr>\n",
              "      <th>4</th>\n",
              "      <td>2011-01-05</td>\n",
              "      <td>1600</td>\n",
              "      <td>0</td>\n",
              "      <td>1</td>\n",
              "      <td>1</td>\n",
              "      <td>0.226957</td>\n",
              "      <td>0.229270</td>\n",
              "      <td>0.436957</td>\n",
              "      <td>0.186900</td>\n",
              "    </tr>\n",
              "  </tbody>\n",
              "</table>\n",
              "</div>"
            ],
            "text/plain": [
              "       dteday   cnt  holiday  workingday  weathersit      temp     atemp  \\\n",
              "0  2011-01-01   985        0           0           2  0.344167  0.363625   \n",
              "1  2011-01-02   801        0           0           2  0.363478  0.353739   \n",
              "2  2011-01-03  1349        0           1           1  0.196364  0.189405   \n",
              "3  2011-01-04  1562        0           1           1  0.200000  0.212122   \n",
              "4  2011-01-05  1600        0           1           1  0.226957  0.229270   \n",
              "\n",
              "        hum  windspeed  \n",
              "0  0.805833   0.160446  \n",
              "1  0.696087   0.248539  \n",
              "2  0.437273   0.248309  \n",
              "3  0.590435   0.160296  \n",
              "4  0.436957   0.186900  "
            ]
          },
          "execution_count": 6,
          "metadata": {},
          "output_type": "execute_result"
        }
      ],
      "source": [
        "#incluimos dteday en las columnas \n",
        "dataset = data.loc[:, [\"dteday\",\"cnt\", \"holiday\", \"workingday\", \"weathersit\",\n",
        "                       \"temp\", \"atemp\", \"hum\", \"windspeed\"]]\n",
        "dataset.head()"
      ]
    },
    {
      "attachments": {},
      "cell_type": "markdown",
      "metadata": {
        "id": "m7NhRW2VbHwF"
      },
      "source": [
        "### TRANSFORMACIÓN DE LOS DATOS"
      ]
    },
    {
      "cell_type": "code",
      "execution_count": 7,
      "metadata": {},
      "outputs": [
        {
          "data": {
            "text/plain": [
              "0      2011-01-01\n",
              "1      2011-01-02\n",
              "2      2011-01-03\n",
              "3      2011-01-04\n",
              "4      2011-01-05\n",
              "          ...    \n",
              "726    2012-12-27\n",
              "727    2012-12-28\n",
              "728    2012-12-29\n",
              "729    2012-12-30\n",
              "730    2012-12-31\n",
              "Name: dteday, Length: 731, dtype: object"
            ]
          },
          "execution_count": 7,
          "metadata": {},
          "output_type": "execute_result"
        }
      ],
      "source": [
        "# Date variable\n",
        "dataset.dteday"
      ]
    },
    {
      "attachments": {},
      "cell_type": "markdown",
      "metadata": {},
      "source": [
        "es un objeto, y puede ser un problema"
      ]
    },
    {
      "cell_type": "code",
      "execution_count": 8,
      "metadata": {},
      "outputs": [],
      "source": [
        "dataset.dteday = pd.to_datetime(dataset.dteday,\n",
        "                                format = \"%Y-%m-%d\")"
      ]
    },
    {
      "cell_type": "code",
      "execution_count": 9,
      "metadata": {},
      "outputs": [
        {
          "data": {
            "text/plain": [
              "0     2011-01-01\n",
              "1     2011-01-02\n",
              "2     2011-01-03\n",
              "3     2011-01-04\n",
              "4     2011-01-05\n",
              "         ...    \n",
              "726   2012-12-27\n",
              "727   2012-12-28\n",
              "728   2012-12-29\n",
              "729   2012-12-30\n",
              "730   2012-12-31\n",
              "Name: dteday, Length: 731, dtype: datetime64[ns]"
            ]
          },
          "execution_count": 9,
          "metadata": {},
          "output_type": "execute_result"
        }
      ],
      "source": [
        "dataset.dteday"
      ]
    },
    {
      "cell_type": "code",
      "execution_count": 10,
      "metadata": {
        "colab": {
          "base_uri": "https://localhost:8080/",
          "height": 0
        },
        "id": "ezv-WxgxRjJs",
        "outputId": "6f120451-e3ab-4209-a15c-f4552b801d90"
      },
      "outputs": [
        {
          "data": {
            "text/html": [
              "<div>\n",
              "<style scoped>\n",
              "    .dataframe tbody tr th:only-of-type {\n",
              "        vertical-align: middle;\n",
              "    }\n",
              "\n",
              "    .dataframe tbody tr th {\n",
              "        vertical-align: top;\n",
              "    }\n",
              "\n",
              "    .dataframe thead th {\n",
              "        text-align: right;\n",
              "    }\n",
              "</style>\n",
              "<table border=\"1\" class=\"dataframe\">\n",
              "  <thead>\n",
              "    <tr style=\"text-align: right;\">\n",
              "      <th></th>\n",
              "      <th>ds</th>\n",
              "      <th>y</th>\n",
              "      <th>holiday</th>\n",
              "      <th>workingday</th>\n",
              "      <th>weathersit</th>\n",
              "      <th>temp</th>\n",
              "      <th>atemp</th>\n",
              "      <th>hum</th>\n",
              "      <th>windspeed</th>\n",
              "    </tr>\n",
              "  </thead>\n",
              "  <tbody>\n",
              "    <tr>\n",
              "      <th>0</th>\n",
              "      <td>2011-01-01</td>\n",
              "      <td>985</td>\n",
              "      <td>0</td>\n",
              "      <td>0</td>\n",
              "      <td>2</td>\n",
              "      <td>0.344167</td>\n",
              "      <td>0.363625</td>\n",
              "      <td>0.805833</td>\n",
              "      <td>0.160446</td>\n",
              "    </tr>\n",
              "  </tbody>\n",
              "</table>\n",
              "</div>"
            ],
            "text/plain": [
              "          ds    y  holiday  workingday  weathersit      temp     atemp  \\\n",
              "0 2011-01-01  985        0           0           2  0.344167  0.363625   \n",
              "\n",
              "        hum  windspeed  \n",
              "0  0.805833   0.160446  "
            ]
          },
          "execution_count": 10,
          "metadata": {},
          "output_type": "execute_result"
        }
      ],
      "source": [
        "#RENOMBRAMOS LA VARIABLE QUE QUEREMOS PRONOSTICAR\n",
        "dataset = dataset.rename(columns = {'cnt' : 'y'})\n",
        "dataset = dataset.rename(columns = {'dteday' : 'ds'})\n",
        "dataset.head(1)"
      ]
    },
    {
      "attachments": {},
      "cell_type": "markdown",
      "metadata": {},
      "source": [
        "### Holidays"
      ]
    },
    {
      "cell_type": "code",
      "execution_count": 11,
      "metadata": {},
      "outputs": [
        {
          "data": {
            "text/html": [
              "<div>\n",
              "<style scoped>\n",
              "    .dataframe tbody tr th:only-of-type {\n",
              "        vertical-align: middle;\n",
              "    }\n",
              "\n",
              "    .dataframe tbody tr th {\n",
              "        vertical-align: top;\n",
              "    }\n",
              "\n",
              "    .dataframe thead th {\n",
              "        text-align: right;\n",
              "    }\n",
              "</style>\n",
              "<table border=\"1\" class=\"dataframe\">\n",
              "  <thead>\n",
              "    <tr style=\"text-align: right;\">\n",
              "      <th></th>\n",
              "      <th>holiday</th>\n",
              "      <th>ds</th>\n",
              "      <th>lower_windows</th>\n",
              "      <th>upper_windows</th>\n",
              "    </tr>\n",
              "  </thead>\n",
              "  <tbody>\n",
              "    <tr>\n",
              "      <th>16</th>\n",
              "      <td>holi</td>\n",
              "      <td>2011-01-17</td>\n",
              "      <td>-3</td>\n",
              "      <td>1</td>\n",
              "    </tr>\n",
              "    <tr>\n",
              "      <th>51</th>\n",
              "      <td>holi</td>\n",
              "      <td>2011-02-21</td>\n",
              "      <td>-3</td>\n",
              "      <td>1</td>\n",
              "    </tr>\n",
              "    <tr>\n",
              "      <th>104</th>\n",
              "      <td>holi</td>\n",
              "      <td>2011-04-15</td>\n",
              "      <td>-3</td>\n",
              "      <td>1</td>\n",
              "    </tr>\n",
              "    <tr>\n",
              "      <th>149</th>\n",
              "      <td>holi</td>\n",
              "      <td>2011-05-30</td>\n",
              "      <td>-3</td>\n",
              "      <td>1</td>\n",
              "    </tr>\n",
              "    <tr>\n",
              "      <th>184</th>\n",
              "      <td>holi</td>\n",
              "      <td>2011-07-04</td>\n",
              "      <td>-3</td>\n",
              "      <td>1</td>\n",
              "    </tr>\n",
              "  </tbody>\n",
              "</table>\n",
              "</div>"
            ],
            "text/plain": [
              "    holiday         ds  lower_windows  upper_windows\n",
              "16     holi 2011-01-17             -3              1\n",
              "51     holi 2011-02-21             -3              1\n",
              "104    holi 2011-04-15             -3              1\n",
              "149    holi 2011-05-30             -3              1\n",
              "184    holi 2011-07-04             -3              1"
            ]
          },
          "execution_count": 11,
          "metadata": {},
          "output_type": "execute_result"
        }
      ],
      "source": [
        "holidays_dates = dataset[dataset.holiday == 1].ds\n",
        "holidays_dates = pd.DataFrame({'holiday': 'holi',\n",
        "                               'ds': pd.to_datetime(holidays_dates),\n",
        "                               'lower_windows': -3,\n",
        "                               'upper_windows': 1})\n",
        "holidays_dates.head()"
      ]
    },
    {
      "cell_type": "code",
      "execution_count": 12,
      "metadata": {},
      "outputs": [
        {
          "data": {
            "text/html": [
              "<div>\n",
              "<style scoped>\n",
              "    .dataframe tbody tr th:only-of-type {\n",
              "        vertical-align: middle;\n",
              "    }\n",
              "\n",
              "    .dataframe tbody tr th {\n",
              "        vertical-align: top;\n",
              "    }\n",
              "\n",
              "    .dataframe thead th {\n",
              "        text-align: right;\n",
              "    }\n",
              "</style>\n",
              "<table border=\"1\" class=\"dataframe\">\n",
              "  <thead>\n",
              "    <tr style=\"text-align: right;\">\n",
              "      <th></th>\n",
              "      <th>ds</th>\n",
              "      <th>y</th>\n",
              "      <th>workingday</th>\n",
              "      <th>weathersit</th>\n",
              "      <th>temp</th>\n",
              "      <th>atemp</th>\n",
              "      <th>hum</th>\n",
              "      <th>windspeed</th>\n",
              "    </tr>\n",
              "  </thead>\n",
              "  <tbody>\n",
              "    <tr>\n",
              "      <th>0</th>\n",
              "      <td>2011-01-01</td>\n",
              "      <td>985</td>\n",
              "      <td>0</td>\n",
              "      <td>2</td>\n",
              "      <td>0.344167</td>\n",
              "      <td>0.363625</td>\n",
              "      <td>0.805833</td>\n",
              "      <td>0.160446</td>\n",
              "    </tr>\n",
              "  </tbody>\n",
              "</table>\n",
              "</div>"
            ],
            "text/plain": [
              "          ds    y  workingday  weathersit      temp     atemp       hum  \\\n",
              "0 2011-01-01  985           0           2  0.344167  0.363625  0.805833   \n",
              "\n",
              "   windspeed  \n",
              "0   0.160446  "
            ]
          },
          "execution_count": 12,
          "metadata": {},
          "output_type": "execute_result"
        }
      ],
      "source": [
        "# removing holiday column\n",
        "dataset = dataset.drop(columns=\"holiday\")\n",
        "dataset.head(1)"
      ]
    },
    {
      "attachments": {},
      "cell_type": "markdown",
      "metadata": {},
      "source": [
        "### CONJUNTO DE ENTRENAMIENTO Y PRUEBAS"
      ]
    },
    {
      "cell_type": "code",
      "execution_count": 13,
      "metadata": {},
      "outputs": [
        {
          "data": {
            "text/html": [
              "<div>\n",
              "<style scoped>\n",
              "    .dataframe tbody tr th:only-of-type {\n",
              "        vertical-align: middle;\n",
              "    }\n",
              "\n",
              "    .dataframe tbody tr th {\n",
              "        vertical-align: top;\n",
              "    }\n",
              "\n",
              "    .dataframe thead th {\n",
              "        text-align: right;\n",
              "    }\n",
              "</style>\n",
              "<table border=\"1\" class=\"dataframe\">\n",
              "  <thead>\n",
              "    <tr style=\"text-align: right;\">\n",
              "      <th></th>\n",
              "      <th>ds</th>\n",
              "      <th>y</th>\n",
              "      <th>workingday</th>\n",
              "      <th>weathersit</th>\n",
              "      <th>temp</th>\n",
              "      <th>atemp</th>\n",
              "      <th>hum</th>\n",
              "      <th>windspeed</th>\n",
              "    </tr>\n",
              "  </thead>\n",
              "  <tbody>\n",
              "    <tr>\n",
              "      <th>700</th>\n",
              "      <td>2012-12-01</td>\n",
              "      <td>5191</td>\n",
              "      <td>0</td>\n",
              "      <td>2</td>\n",
              "      <td>0.298333</td>\n",
              "      <td>0.316904</td>\n",
              "      <td>0.806667</td>\n",
              "      <td>0.059704</td>\n",
              "    </tr>\n",
              "  </tbody>\n",
              "</table>\n",
              "</div>"
            ],
            "text/plain": [
              "            ds     y  workingday  weathersit      temp     atemp       hum  \\\n",
              "700 2012-12-01  5191           0           2  0.298333  0.316904  0.806667   \n",
              "\n",
              "     windspeed  \n",
              "700   0.059704  "
            ]
          },
          "execution_count": 13,
          "metadata": {},
          "output_type": "execute_result"
        }
      ],
      "source": [
        "test_days = 31\n",
        "training_set = dataset.iloc[:-test_days, :]\n",
        "test_set = dataset.iloc[-test_days:, :]\n",
        "test_set.head(1)"
      ]
    },
    {
      "attachments": {},
      "cell_type": "markdown",
      "metadata": {},
      "source": [
        "### Facebook Prophet"
      ]
    },
    {
      "cell_type": "code",
      "execution_count": 14,
      "metadata": {},
      "outputs": [
        {
          "name": "stderr",
          "output_type": "stream",
          "text": [
            "19:00:11 - cmdstanpy - INFO - Chain [1] start processing\n",
            "19:00:11 - cmdstanpy - INFO - Chain [1] done processing\n"
          ]
        },
        {
          "data": {
            "text/plain": [
              "<prophet.forecaster.Prophet at 0x2324ebaece0>"
            ]
          },
          "execution_count": 14,
          "metadata": {},
          "output_type": "execute_result"
        }
      ],
      "source": [
        "#Facebook prophet model\n",
        "m = Prophet(growth='linear', \n",
        "            yearly_seasonality= True, \n",
        "            weekly_seasonality= True, \n",
        "            daily_seasonality=False, \n",
        "            holidays= holidays_dates, \n",
        "            seasonality_mode=\"multiplicative\", \n",
        "            seasonality_prior_scale=5, \n",
        "            holidays_prior_scale=10, \n",
        "            changepoint_prior_scale=0.01)\n",
        "m.add_regressor('workingday')\n",
        "m.add_regressor('weathersit')\n",
        "m.add_regressor('temp')\n",
        "m.add_regressor('atemp')\n",
        "m.add_regressor('hum')\n",
        "m.add_regressor('windspeed')\n",
        "m.fit(training_set)"
      ]
    },
    {
      "attachments": {},
      "cell_type": "markdown",
      "metadata": {},
      "source": [
        "### Forecasting"
      ]
    },
    {
      "cell_type": "code",
      "execution_count": 15,
      "metadata": {},
      "outputs": [
        {
          "data": {
            "text/html": [
              "<div>\n",
              "<style scoped>\n",
              "    .dataframe tbody tr th:only-of-type {\n",
              "        vertical-align: middle;\n",
              "    }\n",
              "\n",
              "    .dataframe tbody tr th {\n",
              "        vertical-align: top;\n",
              "    }\n",
              "\n",
              "    .dataframe thead th {\n",
              "        text-align: right;\n",
              "    }\n",
              "</style>\n",
              "<table border=\"1\" class=\"dataframe\">\n",
              "  <thead>\n",
              "    <tr style=\"text-align: right;\">\n",
              "      <th></th>\n",
              "      <th>ds</th>\n",
              "    </tr>\n",
              "  </thead>\n",
              "  <tbody>\n",
              "    <tr>\n",
              "      <th>0</th>\n",
              "      <td>2011-01-01</td>\n",
              "    </tr>\n",
              "  </tbody>\n",
              "</table>\n",
              "</div>"
            ],
            "text/plain": [
              "          ds\n",
              "0 2011-01-01"
            ]
          },
          "execution_count": 15,
          "metadata": {},
          "output_type": "execute_result"
        }
      ],
      "source": [
        "# Create Future Dataframe\n",
        "future = m.make_future_dataframe(periods=len(test_set), \n",
        "                                 freq=\"D\")\n",
        "future.head(1)"
      ]
    },
    {
      "cell_type": "code",
      "execution_count": 16,
      "metadata": {},
      "outputs": [
        {
          "data": {
            "text/html": [
              "<div>\n",
              "<style scoped>\n",
              "    .dataframe tbody tr th:only-of-type {\n",
              "        vertical-align: middle;\n",
              "    }\n",
              "\n",
              "    .dataframe tbody tr th {\n",
              "        vertical-align: top;\n",
              "    }\n",
              "\n",
              "    .dataframe thead th {\n",
              "        text-align: right;\n",
              "    }\n",
              "</style>\n",
              "<table border=\"1\" class=\"dataframe\">\n",
              "  <thead>\n",
              "    <tr style=\"text-align: right;\">\n",
              "      <th></th>\n",
              "      <th>ds</th>\n",
              "      <th>workingday</th>\n",
              "      <th>weathersit</th>\n",
              "      <th>temp</th>\n",
              "      <th>atemp</th>\n",
              "      <th>hum</th>\n",
              "      <th>windspeed</th>\n",
              "    </tr>\n",
              "  </thead>\n",
              "  <tbody>\n",
              "    <tr>\n",
              "      <th>0</th>\n",
              "      <td>2011-01-01</td>\n",
              "      <td>0</td>\n",
              "      <td>2</td>\n",
              "      <td>0.344167</td>\n",
              "      <td>0.363625</td>\n",
              "      <td>0.805833</td>\n",
              "      <td>0.160446</td>\n",
              "    </tr>\n",
              "    <tr>\n",
              "      <th>1</th>\n",
              "      <td>2011-01-02</td>\n",
              "      <td>0</td>\n",
              "      <td>2</td>\n",
              "      <td>0.363478</td>\n",
              "      <td>0.353739</td>\n",
              "      <td>0.696087</td>\n",
              "      <td>0.248539</td>\n",
              "    </tr>\n",
              "    <tr>\n",
              "      <th>2</th>\n",
              "      <td>2011-01-03</td>\n",
              "      <td>1</td>\n",
              "      <td>1</td>\n",
              "      <td>0.196364</td>\n",
              "      <td>0.189405</td>\n",
              "      <td>0.437273</td>\n",
              "      <td>0.248309</td>\n",
              "    </tr>\n",
              "    <tr>\n",
              "      <th>3</th>\n",
              "      <td>2011-01-04</td>\n",
              "      <td>1</td>\n",
              "      <td>1</td>\n",
              "      <td>0.200000</td>\n",
              "      <td>0.212122</td>\n",
              "      <td>0.590435</td>\n",
              "      <td>0.160296</td>\n",
              "    </tr>\n",
              "    <tr>\n",
              "      <th>4</th>\n",
              "      <td>2011-01-05</td>\n",
              "      <td>1</td>\n",
              "      <td>1</td>\n",
              "      <td>0.226957</td>\n",
              "      <td>0.229270</td>\n",
              "      <td>0.436957</td>\n",
              "      <td>0.186900</td>\n",
              "    </tr>\n",
              "  </tbody>\n",
              "</table>\n",
              "</div>"
            ],
            "text/plain": [
              "          ds  workingday  weathersit      temp     atemp       hum  windspeed\n",
              "0 2011-01-01           0           2  0.344167  0.363625  0.805833   0.160446\n",
              "1 2011-01-02           0           2  0.363478  0.353739  0.696087   0.248539\n",
              "2 2011-01-03           1           1  0.196364  0.189405  0.437273   0.248309\n",
              "3 2011-01-04           1           1  0.200000  0.212122  0.590435   0.160296\n",
              "4 2011-01-05           1           1  0.226957  0.229270  0.436957   0.186900"
            ]
          },
          "execution_count": 16,
          "metadata": {},
          "output_type": "execute_result"
        }
      ],
      "source": [
        "# Merge Regressors\n",
        "future = pd.concat([future, dataset.iloc[:,2:]], \n",
        "                   axis=1)\n",
        "future.head()"
      ]
    },
    {
      "cell_type": "code",
      "execution_count": 17,
      "metadata": {},
      "outputs": [
        {
          "data": {
            "text/html": [
              "<div>\n",
              "<style scoped>\n",
              "    .dataframe tbody tr th:only-of-type {\n",
              "        vertical-align: middle;\n",
              "    }\n",
              "\n",
              "    .dataframe tbody tr th {\n",
              "        vertical-align: top;\n",
              "    }\n",
              "\n",
              "    .dataframe thead th {\n",
              "        text-align: right;\n",
              "    }\n",
              "</style>\n",
              "<table border=\"1\" class=\"dataframe\">\n",
              "  <thead>\n",
              "    <tr style=\"text-align: right;\">\n",
              "      <th></th>\n",
              "      <th>ds</th>\n",
              "      <th>trend</th>\n",
              "      <th>yhat_lower</th>\n",
              "      <th>yhat_upper</th>\n",
              "      <th>trend_lower</th>\n",
              "      <th>trend_upper</th>\n",
              "      <th>atemp</th>\n",
              "      <th>atemp_lower</th>\n",
              "      <th>atemp_upper</th>\n",
              "      <th>extra_regressors_multiplicative</th>\n",
              "      <th>...</th>\n",
              "      <th>workingday</th>\n",
              "      <th>workingday_lower</th>\n",
              "      <th>workingday_upper</th>\n",
              "      <th>yearly</th>\n",
              "      <th>yearly_lower</th>\n",
              "      <th>yearly_upper</th>\n",
              "      <th>additive_terms</th>\n",
              "      <th>additive_terms_lower</th>\n",
              "      <th>additive_terms_upper</th>\n",
              "      <th>yhat</th>\n",
              "    </tr>\n",
              "  </thead>\n",
              "  <tbody>\n",
              "    <tr>\n",
              "      <th>0</th>\n",
              "      <td>2011-01-01</td>\n",
              "      <td>2407.878622</td>\n",
              "      <td>237.142965</td>\n",
              "      <td>2127.001892</td>\n",
              "      <td>2407.878622</td>\n",
              "      <td>2407.878622</td>\n",
              "      <td>-0.055594</td>\n",
              "      <td>-0.055594</td>\n",
              "      <td>-0.055594</td>\n",
              "      <td>-0.278762</td>\n",
              "      <td>...</td>\n",
              "      <td>0.000000</td>\n",
              "      <td>0.000000</td>\n",
              "      <td>0.000000</td>\n",
              "      <td>-0.273710</td>\n",
              "      <td>-0.273710</td>\n",
              "      <td>-0.273710</td>\n",
              "      <td>0.0</td>\n",
              "      <td>0.0</td>\n",
              "      <td>0.0</td>\n",
              "      <td>1205.100309</td>\n",
              "    </tr>\n",
              "    <tr>\n",
              "      <th>1</th>\n",
              "      <td>2011-01-02</td>\n",
              "      <td>2413.606475</td>\n",
              "      <td>65.316455</td>\n",
              "      <td>1941.873891</td>\n",
              "      <td>2413.606475</td>\n",
              "      <td>2413.606475</td>\n",
              "      <td>-0.060274</td>\n",
              "      <td>-0.060274</td>\n",
              "      <td>-0.060274</td>\n",
              "      <td>-0.287853</td>\n",
              "      <td>...</td>\n",
              "      <td>0.000000</td>\n",
              "      <td>0.000000</td>\n",
              "      <td>0.000000</td>\n",
              "      <td>-0.267571</td>\n",
              "      <td>-0.267571</td>\n",
              "      <td>-0.267571</td>\n",
              "      <td>0.0</td>\n",
              "      <td>0.0</td>\n",
              "      <td>0.0</td>\n",
              "      <td>969.364473</td>\n",
              "    </tr>\n",
              "    <tr>\n",
              "      <th>2</th>\n",
              "      <td>2011-01-03</td>\n",
              "      <td>2419.334328</td>\n",
              "      <td>335.322568</td>\n",
              "      <td>2262.348209</td>\n",
              "      <td>2419.334328</td>\n",
              "      <td>2419.334328</td>\n",
              "      <td>-0.138056</td>\n",
              "      <td>-0.138056</td>\n",
              "      <td>-0.138056</td>\n",
              "      <td>-0.188507</td>\n",
              "      <td>...</td>\n",
              "      <td>0.029315</td>\n",
              "      <td>0.029315</td>\n",
              "      <td>0.029315</td>\n",
              "      <td>-0.260048</td>\n",
              "      <td>-0.260048</td>\n",
              "      <td>-0.260048</td>\n",
              "      <td>0.0</td>\n",
              "      <td>0.0</td>\n",
              "      <td>0.0</td>\n",
              "      <td>1277.339755</td>\n",
              "    </tr>\n",
              "    <tr>\n",
              "      <th>3</th>\n",
              "      <td>2011-01-04</td>\n",
              "      <td>2425.062181</td>\n",
              "      <td>427.763658</td>\n",
              "      <td>2325.936729</td>\n",
              "      <td>2425.062181</td>\n",
              "      <td>2425.062181</td>\n",
              "      <td>-0.127303</td>\n",
              "      <td>-0.127303</td>\n",
              "      <td>-0.127303</td>\n",
              "      <td>-0.178112</td>\n",
              "      <td>...</td>\n",
              "      <td>0.029315</td>\n",
              "      <td>0.029315</td>\n",
              "      <td>0.029315</td>\n",
              "      <td>-0.251262</td>\n",
              "      <td>-0.251262</td>\n",
              "      <td>-0.251262</td>\n",
              "      <td>0.0</td>\n",
              "      <td>0.0</td>\n",
              "      <td>0.0</td>\n",
              "      <td>1365.832358</td>\n",
              "    </tr>\n",
              "    <tr>\n",
              "      <th>4</th>\n",
              "      <td>2011-01-05</td>\n",
              "      <td>2430.790034</td>\n",
              "      <td>639.874600</td>\n",
              "      <td>2586.285348</td>\n",
              "      <td>2430.790034</td>\n",
              "      <td>2430.790034</td>\n",
              "      <td>-0.119187</td>\n",
              "      <td>-0.119187</td>\n",
              "      <td>-0.119187</td>\n",
              "      <td>-0.111616</td>\n",
              "      <td>...</td>\n",
              "      <td>0.029315</td>\n",
              "      <td>0.029315</td>\n",
              "      <td>0.029315</td>\n",
              "      <td>-0.241355</td>\n",
              "      <td>-0.241355</td>\n",
              "      <td>-0.241355</td>\n",
              "      <td>0.0</td>\n",
              "      <td>0.0</td>\n",
              "      <td>0.0</td>\n",
              "      <td>1568.124574</td>\n",
              "    </tr>\n",
              "  </tbody>\n",
              "</table>\n",
              "<p>5 rows × 46 columns</p>\n",
              "</div>"
            ],
            "text/plain": [
              "          ds        trend  yhat_lower   yhat_upper  trend_lower  trend_upper  \\\n",
              "0 2011-01-01  2407.878622  237.142965  2127.001892  2407.878622  2407.878622   \n",
              "1 2011-01-02  2413.606475   65.316455  1941.873891  2413.606475  2413.606475   \n",
              "2 2011-01-03  2419.334328  335.322568  2262.348209  2419.334328  2419.334328   \n",
              "3 2011-01-04  2425.062181  427.763658  2325.936729  2425.062181  2425.062181   \n",
              "4 2011-01-05  2430.790034  639.874600  2586.285348  2430.790034  2430.790034   \n",
              "\n",
              "      atemp  atemp_lower  atemp_upper  extra_regressors_multiplicative  ...  \\\n",
              "0 -0.055594    -0.055594    -0.055594                        -0.278762  ...   \n",
              "1 -0.060274    -0.060274    -0.060274                        -0.287853  ...   \n",
              "2 -0.138056    -0.138056    -0.138056                        -0.188507  ...   \n",
              "3 -0.127303    -0.127303    -0.127303                        -0.178112  ...   \n",
              "4 -0.119187    -0.119187    -0.119187                        -0.111616  ...   \n",
              "\n",
              "   workingday  workingday_lower  workingday_upper    yearly  yearly_lower  \\\n",
              "0    0.000000          0.000000          0.000000 -0.273710     -0.273710   \n",
              "1    0.000000          0.000000          0.000000 -0.267571     -0.267571   \n",
              "2    0.029315          0.029315          0.029315 -0.260048     -0.260048   \n",
              "3    0.029315          0.029315          0.029315 -0.251262     -0.251262   \n",
              "4    0.029315          0.029315          0.029315 -0.241355     -0.241355   \n",
              "\n",
              "   yearly_upper  additive_terms  additive_terms_lower  additive_terms_upper  \\\n",
              "0     -0.273710             0.0                   0.0                   0.0   \n",
              "1     -0.267571             0.0                   0.0                   0.0   \n",
              "2     -0.260048             0.0                   0.0                   0.0   \n",
              "3     -0.251262             0.0                   0.0                   0.0   \n",
              "4     -0.241355             0.0                   0.0                   0.0   \n",
              "\n",
              "          yhat  \n",
              "0  1205.100309  \n",
              "1   969.364473  \n",
              "2  1277.339755  \n",
              "3  1365.832358  \n",
              "4  1568.124574  \n",
              "\n",
              "[5 rows x 46 columns]"
            ]
          },
          "execution_count": 17,
          "metadata": {},
          "output_type": "execute_result"
        }
      ],
      "source": [
        "# Forecast\n",
        "forecast = m.predict(future)\n",
        "forecast.head()"
      ]
    },
    {
      "attachments": {},
      "cell_type": "markdown",
      "metadata": {},
      "source": [
        "### XGBoost preparations"
      ]
    },
    {
      "cell_type": "code",
      "execution_count": 18,
      "metadata": {},
      "outputs": [
        {
          "data": {
            "text/html": [
              "<div>\n",
              "<style scoped>\n",
              "    .dataframe tbody tr th:only-of-type {\n",
              "        vertical-align: middle;\n",
              "    }\n",
              "\n",
              "    .dataframe tbody tr th {\n",
              "        vertical-align: top;\n",
              "    }\n",
              "\n",
              "    .dataframe thead th {\n",
              "        text-align: right;\n",
              "    }\n",
              "</style>\n",
              "<table border=\"1\" class=\"dataframe\">\n",
              "  <thead>\n",
              "    <tr style=\"text-align: right;\">\n",
              "      <th></th>\n",
              "      <th>ds</th>\n",
              "      <th>y</th>\n",
              "      <th>workingday</th>\n",
              "      <th>weathersit</th>\n",
              "      <th>temp</th>\n",
              "      <th>atemp</th>\n",
              "      <th>hum</th>\n",
              "      <th>windspeed</th>\n",
              "      <th>trend</th>\n",
              "      <th>holi</th>\n",
              "      <th>weekly</th>\n",
              "      <th>yearly</th>\n",
              "    </tr>\n",
              "  </thead>\n",
              "  <tbody>\n",
              "    <tr>\n",
              "      <th>0</th>\n",
              "      <td>2011-01-01</td>\n",
              "      <td>985</td>\n",
              "      <td>0</td>\n",
              "      <td>2</td>\n",
              "      <td>0.344167</td>\n",
              "      <td>0.363625</td>\n",
              "      <td>0.805833</td>\n",
              "      <td>0.160446</td>\n",
              "      <td>2407.878622</td>\n",
              "      <td>0.0</td>\n",
              "      <td>0.052954</td>\n",
              "      <td>-0.273710</td>\n",
              "    </tr>\n",
              "    <tr>\n",
              "      <th>1</th>\n",
              "      <td>2011-01-02</td>\n",
              "      <td>801</td>\n",
              "      <td>0</td>\n",
              "      <td>2</td>\n",
              "      <td>0.363478</td>\n",
              "      <td>0.353739</td>\n",
              "      <td>0.696087</td>\n",
              "      <td>0.248539</td>\n",
              "      <td>2413.606475</td>\n",
              "      <td>0.0</td>\n",
              "      <td>-0.042951</td>\n",
              "      <td>-0.267571</td>\n",
              "    </tr>\n",
              "    <tr>\n",
              "      <th>2</th>\n",
              "      <td>2011-01-03</td>\n",
              "      <td>1349</td>\n",
              "      <td>1</td>\n",
              "      <td>1</td>\n",
              "      <td>0.196364</td>\n",
              "      <td>0.189405</td>\n",
              "      <td>0.437273</td>\n",
              "      <td>0.248309</td>\n",
              "      <td>2419.334328</td>\n",
              "      <td>0.0</td>\n",
              "      <td>-0.023473</td>\n",
              "      <td>-0.260048</td>\n",
              "    </tr>\n",
              "    <tr>\n",
              "      <th>3</th>\n",
              "      <td>2011-01-04</td>\n",
              "      <td>1562</td>\n",
              "      <td>1</td>\n",
              "      <td>1</td>\n",
              "      <td>0.200000</td>\n",
              "      <td>0.212122</td>\n",
              "      <td>0.590435</td>\n",
              "      <td>0.160296</td>\n",
              "      <td>2425.062181</td>\n",
              "      <td>0.0</td>\n",
              "      <td>-0.007411</td>\n",
              "      <td>-0.251262</td>\n",
              "    </tr>\n",
              "    <tr>\n",
              "      <th>4</th>\n",
              "      <td>2011-01-05</td>\n",
              "      <td>1600</td>\n",
              "      <td>1</td>\n",
              "      <td>1</td>\n",
              "      <td>0.226957</td>\n",
              "      <td>0.229270</td>\n",
              "      <td>0.436957</td>\n",
              "      <td>0.186900</td>\n",
              "      <td>2430.790034</td>\n",
              "      <td>0.0</td>\n",
              "      <td>-0.001920</td>\n",
              "      <td>-0.241355</td>\n",
              "    </tr>\n",
              "  </tbody>\n",
              "</table>\n",
              "</div>"
            ],
            "text/plain": [
              "          ds     y  workingday  weathersit      temp     atemp       hum  \\\n",
              "0 2011-01-01   985           0           2  0.344167  0.363625  0.805833   \n",
              "1 2011-01-02   801           0           2  0.363478  0.353739  0.696087   \n",
              "2 2011-01-03  1349           1           1  0.196364  0.189405  0.437273   \n",
              "3 2011-01-04  1562           1           1  0.200000  0.212122  0.590435   \n",
              "4 2011-01-05  1600           1           1  0.226957  0.229270  0.436957   \n",
              "\n",
              "   windspeed        trend  holi    weekly    yearly  \n",
              "0   0.160446  2407.878622   0.0  0.052954 -0.273710  \n",
              "1   0.248539  2413.606475   0.0 -0.042951 -0.267571  \n",
              "2   0.248309  2419.334328   0.0 -0.023473 -0.260048  \n",
              "3   0.160296  2425.062181   0.0 -0.007411 -0.251262  \n",
              "4   0.186900  2430.790034   0.0 -0.001920 -0.241355  "
            ]
          },
          "execution_count": 18,
          "metadata": {},
          "output_type": "execute_result"
        }
      ],
      "source": [
        "Prophet_variables = forecast.loc[:,['trend','holi', 'weekly','yearly']]\n",
        "df_xgb = pd.concat([dataset, Prophet_variables], axis=1)\n",
        "df_xgb.head()"
      ]
    },
    {
      "cell_type": "code",
      "execution_count": 55,
      "metadata": {},
      "outputs": [
        {
          "data": {
            "text/html": [
              "<div>\n",
              "<style scoped>\n",
              "    .dataframe tbody tr th:only-of-type {\n",
              "        vertical-align: middle;\n",
              "    }\n",
              "\n",
              "    .dataframe tbody tr th {\n",
              "        vertical-align: top;\n",
              "    }\n",
              "\n",
              "    .dataframe thead th {\n",
              "        text-align: right;\n",
              "    }\n",
              "</style>\n",
              "<table border=\"1\" class=\"dataframe\">\n",
              "  <thead>\n",
              "    <tr style=\"text-align: right;\">\n",
              "      <th></th>\n",
              "      <th>ds</th>\n",
              "      <th>y</th>\n",
              "      <th>workingday</th>\n",
              "      <th>weathersit</th>\n",
              "      <th>temp</th>\n",
              "      <th>atemp</th>\n",
              "      <th>hum</th>\n",
              "      <th>windspeed</th>\n",
              "      <th>trend</th>\n",
              "      <th>holi</th>\n",
              "      <th>weekly</th>\n",
              "      <th>yearly</th>\n",
              "    </tr>\n",
              "  </thead>\n",
              "  <tbody>\n",
              "    <tr>\n",
              "      <th>700</th>\n",
              "      <td>2012-12-01</td>\n",
              "      <td>5191</td>\n",
              "      <td>0</td>\n",
              "      <td>2</td>\n",
              "      <td>0.298333</td>\n",
              "      <td>0.316904</td>\n",
              "      <td>0.806667</td>\n",
              "      <td>0.059704</td>\n",
              "      <td>6261.348684</td>\n",
              "      <td>0.0</td>\n",
              "      <td>0.052954</td>\n",
              "      <td>-0.139025</td>\n",
              "    </tr>\n",
              "  </tbody>\n",
              "</table>\n",
              "</div>"
            ],
            "text/plain": [
              "            ds     y  workingday  weathersit      temp     atemp       hum  \\\n",
              "700 2012-12-01  5191           0           2  0.298333  0.316904  0.806667   \n",
              "\n",
              "     windspeed        trend  holi    weekly    yearly  \n",
              "700   0.059704  6261.348684   0.0  0.052954 -0.139025  "
            ]
          },
          "execution_count": 55,
          "metadata": {},
          "output_type": "execute_result"
        }
      ],
      "source": [
        "#training and test set\n",
        "test_days = 31\n",
        "training_set = df_xgb.iloc[:-test_days, :]\n",
        "test_set = df_xgb.iloc[-test_days:, :]\n",
        "test_set.head(1)"
      ]
    },
    {
      "cell_type": "code",
      "execution_count": 56,
      "metadata": {},
      "outputs": [],
      "source": [
        "# isolate X and Y\n",
        "y_train=training_set.y\n",
        "y_test=test_set.y\n",
        "X_train=training_set.iloc[:,2:]\n",
        "X_test=test_set.iloc[:,2:]\n"
      ]
    },
    {
      "cell_type": "code",
      "execution_count": 57,
      "metadata": {},
      "outputs": [],
      "source": [
        "#create XGBoost Matrices\n",
        "Train = xgb.DMatrix(data=X_train, label=y_train)\n",
        "Test= xgb.DMatrix(data=X_test, label=y_test)"
      ]
    },
    {
      "attachments": {},
      "cell_type": "markdown",
      "metadata": {},
      "source": [
        "### XGBoost"
      ]
    },
    {
      "cell_type": "code",
      "execution_count": 58,
      "metadata": {},
      "outputs": [],
      "source": [
        "#set the parameters\n",
        "parameters = {'learning_rate': 0.1,\n",
        "              'max_depth': 3,\n",
        "              'colsample_bytree': 1,\n",
        "              'subsample': 1,\n",
        "              'min_child_weight': 1,\n",
        "              'gamma': 1,\n",
        "              'random_state': 1502,\n",
        "              'eval_metric': \"rmse\",\n",
        "              'objective': \"reg:squarederror\"}"
      ]
    },
    {
      "cell_type": "code",
      "execution_count": 59,
      "metadata": {},
      "outputs": [
        {
          "name": "stdout",
          "output_type": "stream",
          "text": [
            "[0]\ty-rmse:1832.61811\n",
            "[15]\ty-rmse:1614.25134\n",
            "[30]\ty-rmse:1401.84964\n",
            "[45]\ty-rmse:1314.52188\n",
            "[60]\ty-rmse:1277.79918\n",
            "[75]\ty-rmse:1286.68507\n",
            "[90]\ty-rmse:1265.17708\n",
            "[99]\ty-rmse:1258.38030\n"
          ]
        }
      ],
      "source": [
        "#XGBoost Model\n",
        "model = xgb.train(params=parameters, \n",
        "                  dtrain=Train, \n",
        "                  num_boost_round=100, \n",
        "                  evals=[(test, \"y\")], \n",
        "                  verbose_eval=15 )"
      ]
    },
    {
      "attachments": {},
      "cell_type": "markdown",
      "metadata": {},
      "source": [
        "### Forecasting and Visualization"
      ]
    },
    {
      "cell_type": "code",
      "execution_count": 60,
      "metadata": {},
      "outputs": [
        {
          "data": {
            "text/plain": [
              "array([3962.5825, 2884.727 , 6193.4644, 6404.315 , 5991.4067, 4848.893 ,\n",
              "       4272.3345, 3052.5269, 2940.473 , 3518.168 , 4805.875 , 5157.6416,\n",
              "       5299.681 , 5364.8154, 5022.696 , 2757.5225, 3499.6726, 5897.2915,\n",
              "       5281.672 , 5246.7163, 4227.036 , 3092.6963, 3579.5264, 3267.1348,\n",
              "       3174.8923, 1546.4482, 4002.5583, 4524.9814, 3132.8828, 3170.334 ,\n",
              "       4341.981 ], dtype=float32)"
            ]
          },
          "execution_count": 60,
          "metadata": {},
          "output_type": "execute_result"
        }
      ],
      "source": [
        "#Forecasting\n",
        "predictions_xgb = model.predict(Test)\n",
        "predictions_xgb"
      ]
    },
    {
      "cell_type": "code",
      "execution_count": 61,
      "metadata": {},
      "outputs": [
        {
          "data": {
            "text/plain": [
              "0    3962.582520\n",
              "1    2884.727051\n",
              "Name: XGBoost, dtype: float32"
            ]
          },
          "execution_count": 61,
          "metadata": {},
          "output_type": "execute_result"
        }
      ],
      "source": [
        "#Forecasting\n",
        "predictions_xgb = pd.Series(model.predict(Test), name= \"XGBoost\")\n",
        "predictions_xgb[:2]"
      ]
    },
    {
      "cell_type": "code",
      "execution_count": 62,
      "metadata": {},
      "outputs": [
        {
          "data": {
            "text/plain": [
              "ds\n",
              "2012-12-01    3962.582520\n",
              "2012-12-02    2884.727051\n",
              "Name: XGBoost, dtype: float32"
            ]
          },
          "execution_count": 62,
          "metadata": {},
          "output_type": "execute_result"
        }
      ],
      "source": [
        "predictions_xgb.index = test_set.ds # ahora vemos la dif..como no hemos trabajado con indices..obtenemos la info de una columna\n",
        "predictions_xgb[:2]"
      ]
    },
    {
      "cell_type": "code",
      "execution_count": 66,
      "metadata": {},
      "outputs": [],
      "source": [
        "#set up index\n",
        "training_set.index = training_set.ds\n",
        "test_set.index = test_set.ds"
      ]
    },
    {
      "cell_type": "code",
      "execution_count": 68,
      "metadata": {},
      "outputs": [
        {
          "data": {
            "text/plain": [
              "<AxesSubplot: xlabel='ds'>"
            ]
          },
          "execution_count": 68,
          "metadata": {},
          "output_type": "execute_result"
        },
        {
          "data": {
            "image/png": "[encoded data removed]",
            "text/plain": [
              "<Figure size 900x600 with 1 Axes>"
            ]
          },
          "metadata": {},
          "output_type": "display_data"
        }
      ],
      "source": [
        "#Viz\n",
        "training_set.y['2012-07-01':].plot(figsize = (9,6), legend = True)\n",
        "test_set.y.plot(figsize = (9,6), legend = True)\n",
        "predictions_xgb.plot(legend=True)"
      ]
    },
    {
      "attachments": {},
      "cell_type": "markdown",
      "metadata": {},
      "source": [
        "### Model Assessment"
      ]
    },
    {
      "cell_type": "code",
      "execution_count": 69,
      "metadata": {},
      "outputs": [
        {
          "name": "stdout",
          "output_type": "stream",
          "text": [
            "1020.0\n",
            "1258.0\n"
          ]
        }
      ],
      "source": [
        "# MAE and RMSE\n",
        "from sklearn.metrics import mean_absolute_error, mean_squared_error\n",
        "print(round (mean_absolute_error(test_set['y'], predictions_xgb),0))\n",
        "print(round(np.sqrt(mean_squared_error(test_set['y'], predictions_xgb)), 0))"
      ]
    },
    {
      "cell_type": "code",
      "execution_count": 70,
      "metadata": {},
      "outputs": [
        {
          "data": {
            "text/plain": [
              "51.852559899849346"
            ]
          },
          "execution_count": 70,
          "metadata": {},
          "output_type": "execute_result"
        }
      ],
      "source": [
        "# MAPE function\n",
        "def MAPE(y_true, y_pred):\n",
        "    y_true, y_pred = np.array(y_true), np.array(y_pred)\n",
        "    return np.mean(np.abs((y_true-y_pred) / y_true)) * 100\n",
        "MAPE(test_set['y'], predictions_xgb)"
      ]
    },
    {
      "attachments": {},
      "cell_type": "markdown",
      "metadata": {},
      "source": [
        "### Export forecasts"
      ]
    },
    {
      "cell_type": "code",
      "execution_count": 71,
      "metadata": {},
      "outputs": [
        {
          "name": "stdout",
          "output_type": "stream",
          "text": [
            "C:\\Users\\leoma\\Desktop\\projects\\Modelos-de-Pronosticos-Series-Temporales-Python\n"
          ]
        }
      ],
      "source": [
        "%cd C:\\Users\\leoma\\Desktop\\projects\\Modelos-de-Pronosticos-Series-Temporales-Python"
      ]
    },
    {
      "cell_type": "code",
      "execution_count": 72,
      "metadata": {},
      "outputs": [],
      "source": [
        "predictions_xgb.to_csv('predictions_xgb.csv', index = True)\n",
        "#prueba"
      ]
    }
  ],
  "metadata": {
    "colab": {
      "provenance": []
    },
    "kernelspec": {
      "display_name": "Python 3 (ipykernel)",
      "language": "python",
      "name": "python3"
    },
    "language_info": {
      "codemirror_mode": {
        "name": "ipython",
        "version": 3
      },
      "file_extension": ".py",
      "mimetype": "text/x-python",
      "name": "python",
      "nbconvert_exporter": "python",
      "pygments_lexer": "ipython3",
      "version": "3.10.9"
    }
  },
  "nbformat": 4,
  "nbformat_minor": 0
}
