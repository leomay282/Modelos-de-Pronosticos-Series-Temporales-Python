{
 "cells": [
  {
   "attachments": {},
   "cell_type": "markdown",
   "metadata": {},
   "source": [
    "### Libraries and Data"
   ]
  },
  {
   "cell_type": "code",
   "execution_count": 11,
   "metadata": {},
   "outputs": [
    {
     "name": "stdout",
     "output_type": "stream",
     "text": [
      "c:\\Users\\leoma\\Desktop\\projects\\Modelos-de-Pronosticos-Series-Temporales-Python\\Facebook Prophet\n"
     ]
    }
   ],
   "source": [
    "%cd C:\\Users\\leoma\\Desktop\\projects\\Modelos-de-Pronosticos-Series-Temporales-Python\\Facebook Prophet"
   ]
  },
  {
   "cell_type": "code",
   "execution_count": 12,
   "metadata": {},
   "outputs": [],
   "source": [
    "# import libraries\n",
    "import itertools\n",
    "from prophet import Prophet\n",
    "import pandas as pd\n",
    "import numpy as np"
   ]
  },
  {
   "cell_type": "code",
   "execution_count": 13,
   "metadata": {},
   "outputs": [
    {
     "data": {
      "text/html": [
       "<div>\n",
       "<style scoped>\n",
       "    .dataframe tbody tr th:only-of-type {\n",
       "        vertical-align: middle;\n",
       "    }\n",
       "\n",
       "    .dataframe tbody tr th {\n",
       "        vertical-align: top;\n",
       "    }\n",
       "\n",
       "    .dataframe thead th {\n",
       "        text-align: right;\n",
       "    }\n",
       "</style>\n",
       "<table border=\"1\" class=\"dataframe\">\n",
       "  <thead>\n",
       "    <tr style=\"text-align: right;\">\n",
       "      <th></th>\n",
       "      <th>Date</th>\n",
       "      <th>Total Adults in Shelter</th>\n",
       "      <th>Total Children in Shelter</th>\n",
       "      <th>Total Individuals in Shelter</th>\n",
       "      <th>Single Adult Men in Shelter</th>\n",
       "      <th>Single Adult Women in Shelter</th>\n",
       "      <th>Total Single Adults in Shelter</th>\n",
       "      <th>Families with Children in Shelter</th>\n",
       "      <th>Adults in Families with Children in Shelter</th>\n",
       "      <th>Children in Families with Children in Shelter</th>\n",
       "      <th>Total Individuals in Families with Children in Shelter</th>\n",
       "      <th>Adult Families in Shelter</th>\n",
       "      <th>Easter</th>\n",
       "      <th>Thanksgiving</th>\n",
       "      <th>Christmas</th>\n",
       "    </tr>\n",
       "  </thead>\n",
       "  <tbody>\n",
       "    <tr>\n",
       "      <th>0</th>\n",
       "      <td>1/1/2014</td>\n",
       "      <td>28770</td>\n",
       "      <td>21919</td>\n",
       "      <td>50689</td>\n",
       "      <td>7269</td>\n",
       "      <td>2650</td>\n",
       "      <td>9919</td>\n",
       "      <td>10469</td>\n",
       "      <td>14897</td>\n",
       "      <td>21919</td>\n",
       "      <td>1866</td>\n",
       "      <td>3954</td>\n",
       "      <td>0</td>\n",
       "      <td>0</td>\n",
       "      <td>0</td>\n",
       "    </tr>\n",
       "    <tr>\n",
       "      <th>1</th>\n",
       "      <td>1/2/2014</td>\n",
       "      <td>28843</td>\n",
       "      <td>21954</td>\n",
       "      <td>50797</td>\n",
       "      <td>7289</td>\n",
       "      <td>2661</td>\n",
       "      <td>9950</td>\n",
       "      <td>10484</td>\n",
       "      <td>14930</td>\n",
       "      <td>21954</td>\n",
       "      <td>1871</td>\n",
       "      <td>3963</td>\n",
       "      <td>0</td>\n",
       "      <td>0</td>\n",
       "      <td>0</td>\n",
       "    </tr>\n",
       "    <tr>\n",
       "      <th>2</th>\n",
       "      <td>1/3/2014</td>\n",
       "      <td>28947</td>\n",
       "      <td>22007</td>\n",
       "      <td>50954</td>\n",
       "      <td>7323</td>\n",
       "      <td>2678</td>\n",
       "      <td>10001</td>\n",
       "      <td>10521</td>\n",
       "      <td>14978</td>\n",
       "      <td>22007</td>\n",
       "      <td>1872</td>\n",
       "      <td>3968</td>\n",
       "      <td>0</td>\n",
       "      <td>0</td>\n",
       "      <td>0</td>\n",
       "    </tr>\n",
       "    <tr>\n",
       "      <th>3</th>\n",
       "      <td>1/4/2014</td>\n",
       "      <td>28954</td>\n",
       "      <td>22003</td>\n",
       "      <td>50957</td>\n",
       "      <td>7320</td>\n",
       "      <td>2684</td>\n",
       "      <td>10004</td>\n",
       "      <td>10520</td>\n",
       "      <td>14971</td>\n",
       "      <td>22003</td>\n",
       "      <td>1877</td>\n",
       "      <td>3979</td>\n",
       "      <td>0</td>\n",
       "      <td>0</td>\n",
       "      <td>0</td>\n",
       "    </tr>\n",
       "    <tr>\n",
       "      <th>4</th>\n",
       "      <td>1/5/2014</td>\n",
       "      <td>28991</td>\n",
       "      <td>21966</td>\n",
       "      <td>50957</td>\n",
       "      <td>7386</td>\n",
       "      <td>2692</td>\n",
       "      <td>10078</td>\n",
       "      <td>10502</td>\n",
       "      <td>14941</td>\n",
       "      <td>21966</td>\n",
       "      <td>1874</td>\n",
       "      <td>3972</td>\n",
       "      <td>0</td>\n",
       "      <td>0</td>\n",
       "      <td>0</td>\n",
       "    </tr>\n",
       "  </tbody>\n",
       "</table>\n",
       "</div>"
      ],
      "text/plain": [
       "       Date  Total Adults in Shelter  ...  Thanksgiving  Christmas\n",
       "0  1/1/2014                    28770  ...             0          0\n",
       "1  1/2/2014                    28843  ...             0          0\n",
       "2  1/3/2014                    28947  ...             0          0\n",
       "3  1/4/2014                    28954  ...             0          0\n",
       "4  1/5/2014                    28991  ...             0          0\n",
       "\n",
       "[5 rows x 15 columns]"
      ]
     },
     "execution_count": 13,
     "metadata": {},
     "output_type": "execute_result"
    }
   ],
   "source": [
    "#load the data\n",
    "data = pd.read_csv('DHS_Daily_Report_2020.csv')\n",
    "data.head()"
   ]
  },
  {
   "attachments": {},
   "cell_type": "markdown",
   "metadata": {},
   "source": [
    "* we see first, the date is in the wrong format\n",
    "* we have a lot of variables here, the one that I´ll use as depende variable will be as \"Total I ndiviuals in Shelter\" \n",
    "* \"Easter\", \"Thanksgiving\" and Christmas which I´ll have as regressors"
   ]
  },
  {
   "attachments": {},
   "cell_type": "markdown",
   "metadata": {},
   "source": [
    "### Data Preparation"
   ]
  },
  {
   "cell_type": "code",
   "execution_count": 14,
   "metadata": {},
   "outputs": [
    {
     "data": {
      "text/plain": [
       "0      2014-01-01\n",
       "1      2014-01-02\n",
       "2      2014-01-03\n",
       "3      2014-01-04\n",
       "4      2014-01-05\n",
       "          ...    \n",
       "2552   2020-12-27\n",
       "2553   2020-12-28\n",
       "2554   2020-12-29\n",
       "2555   2020-12-30\n",
       "2556   2020-12-31\n",
       "Name: Date, Length: 2557, dtype: datetime64[ns]"
      ]
     },
     "execution_count": 14,
     "metadata": {},
     "output_type": "execute_result"
    }
   ],
   "source": [
    "# transform the date vatiable\n",
    "data.Date = pd.to_datetime(data.Date, format = \"%m/%d/%Y\")\n",
    "data.Date"
   ]
  },
  {
   "cell_type": "code",
   "execution_count": 15,
   "metadata": {},
   "outputs": [
    {
     "data": {
      "text/html": [
       "<div>\n",
       "<style scoped>\n",
       "    .dataframe tbody tr th:only-of-type {\n",
       "        vertical-align: middle;\n",
       "    }\n",
       "\n",
       "    .dataframe tbody tr th {\n",
       "        vertical-align: top;\n",
       "    }\n",
       "\n",
       "    .dataframe thead th {\n",
       "        text-align: right;\n",
       "    }\n",
       "</style>\n",
       "<table border=\"1\" class=\"dataframe\">\n",
       "  <thead>\n",
       "    <tr style=\"text-align: right;\">\n",
       "      <th></th>\n",
       "      <th>Date</th>\n",
       "      <th>Total Individuals in Shelter</th>\n",
       "      <th>Easter</th>\n",
       "      <th>Thanksgiving</th>\n",
       "      <th>Christmas</th>\n",
       "    </tr>\n",
       "  </thead>\n",
       "  <tbody>\n",
       "    <tr>\n",
       "      <th>0</th>\n",
       "      <td>2014-01-01</td>\n",
       "      <td>50689</td>\n",
       "      <td>0</td>\n",
       "      <td>0</td>\n",
       "      <td>0</td>\n",
       "    </tr>\n",
       "    <tr>\n",
       "      <th>1</th>\n",
       "      <td>2014-01-02</td>\n",
       "      <td>50797</td>\n",
       "      <td>0</td>\n",
       "      <td>0</td>\n",
       "      <td>0</td>\n",
       "    </tr>\n",
       "    <tr>\n",
       "      <th>2</th>\n",
       "      <td>2014-01-03</td>\n",
       "      <td>50954</td>\n",
       "      <td>0</td>\n",
       "      <td>0</td>\n",
       "      <td>0</td>\n",
       "    </tr>\n",
       "    <tr>\n",
       "      <th>3</th>\n",
       "      <td>2014-01-04</td>\n",
       "      <td>50957</td>\n",
       "      <td>0</td>\n",
       "      <td>0</td>\n",
       "      <td>0</td>\n",
       "    </tr>\n",
       "    <tr>\n",
       "      <th>4</th>\n",
       "      <td>2014-01-05</td>\n",
       "      <td>50957</td>\n",
       "      <td>0</td>\n",
       "      <td>0</td>\n",
       "      <td>0</td>\n",
       "    </tr>\n",
       "  </tbody>\n",
       "</table>\n",
       "</div>"
      ],
      "text/plain": [
       "        Date  Total Individuals in Shelter  Easter  Thanksgiving  Christmas\n",
       "0 2014-01-01                         50689       0             0          0\n",
       "1 2014-01-02                         50797       0             0          0\n",
       "2 2014-01-03                         50954       0             0          0\n",
       "3 2014-01-04                         50957       0             0          0\n",
       "4 2014-01-05                         50957       0             0          0"
      ]
     },
     "execution_count": 15,
     "metadata": {},
     "output_type": "execute_result"
    }
   ],
   "source": [
    "# final dataset -- quiero dejar mis ultimos 31 dias\n",
    "df = data.loc[data.Date <= \"2020-12-01\",\n",
    "            [\"Date\", \"Total Individuals in Shelter\",\n",
    "            \"Easter\", \"Thanksgiving\", \"Christmas\"]]\n",
    "df.head()\n"
   ]
  },
  {
   "attachments": {},
   "cell_type": "markdown",
   "metadata": {},
   "source": [
    "1. Rename Dependent and time Variable to \"y\" and \"ds\""
   ]
  },
  {
   "cell_type": "code",
   "execution_count": 21,
   "metadata": {},
   "outputs": [
    {
     "data": {
      "text/html": [
       "<div>\n",
       "<style scoped>\n",
       "    .dataframe tbody tr th:only-of-type {\n",
       "        vertical-align: middle;\n",
       "    }\n",
       "\n",
       "    .dataframe tbody tr th {\n",
       "        vertical-align: top;\n",
       "    }\n",
       "\n",
       "    .dataframe thead th {\n",
       "        text-align: right;\n",
       "    }\n",
       "</style>\n",
       "<table border=\"1\" class=\"dataframe\">\n",
       "  <thead>\n",
       "    <tr style=\"text-align: right;\">\n",
       "      <th></th>\n",
       "      <th>ds</th>\n",
       "      <th>y</th>\n",
       "      <th>Easter</th>\n",
       "      <th>Thanksgiving</th>\n",
       "      <th>Christmas</th>\n",
       "    </tr>\n",
       "  </thead>\n",
       "  <tbody>\n",
       "    <tr>\n",
       "      <th>0</th>\n",
       "      <td>2014-01-01</td>\n",
       "      <td>50689</td>\n",
       "      <td>0</td>\n",
       "      <td>0</td>\n",
       "      <td>0</td>\n",
       "    </tr>\n",
       "  </tbody>\n",
       "</table>\n",
       "</div>"
      ],
      "text/plain": [
       "          ds      y  Easter  Thanksgiving  Christmas\n",
       "0 2014-01-01  50689       0             0          0"
      ]
     },
     "execution_count": 21,
     "metadata": {},
     "output_type": "execute_result"
    }
   ],
   "source": [
    "#RENOMBRAMOS LA VARIABLE QUE QUEREMOS PRONOSTICAR\n",
    "df = df.rename(columns = {'Total Individuals in Shelter' : 'y', \n",
    "                                'Date' : 'ds'})\n",
    "df.head(1)"
   ]
  },
  {
   "attachments": {},
   "cell_type": "markdown",
   "metadata": {},
   "source": [
    "2. Declare Easter and Thanksgiving as holidays. Combine them. Use pd.concat"
   ]
  },
  {
   "cell_type": "code",
   "execution_count": 22,
   "metadata": {},
   "outputs": [
    {
     "data": {
      "text/html": [
       "<div>\n",
       "<style scoped>\n",
       "    .dataframe tbody tr th:only-of-type {\n",
       "        vertical-align: middle;\n",
       "    }\n",
       "\n",
       "    .dataframe tbody tr th {\n",
       "        vertical-align: top;\n",
       "    }\n",
       "\n",
       "    .dataframe thead th {\n",
       "        text-align: right;\n",
       "    }\n",
       "</style>\n",
       "<table border=\"1\" class=\"dataframe\">\n",
       "  <thead>\n",
       "    <tr style=\"text-align: right;\">\n",
       "      <th></th>\n",
       "      <th>holiday</th>\n",
       "      <th>ds</th>\n",
       "      <th>lower_windows</th>\n",
       "      <th>upper_windows</th>\n",
       "    </tr>\n",
       "  </thead>\n",
       "  <tbody>\n",
       "    <tr>\n",
       "      <th>109</th>\n",
       "      <td>easter</td>\n",
       "      <td>2014-04-20</td>\n",
       "      <td>-5</td>\n",
       "      <td>2</td>\n",
       "    </tr>\n",
       "    <tr>\n",
       "      <th>459</th>\n",
       "      <td>easter</td>\n",
       "      <td>2015-04-05</td>\n",
       "      <td>-5</td>\n",
       "      <td>2</td>\n",
       "    </tr>\n",
       "  </tbody>\n",
       "</table>\n",
       "</div>"
      ],
      "text/plain": [
       "    holiday         ds  lower_windows  upper_windows\n",
       "109  easter 2014-04-20             -5              2\n",
       "459  easter 2015-04-05             -5              2"
      ]
     },
     "execution_count": 22,
     "metadata": {},
     "output_type": "execute_result"
    }
   ],
   "source": [
    "#easter\n",
    "easter_dates = dataset[dataset.Easter == 1].ds\n",
    "easter = pd.DataFrame({'holiday': 'easter',\n",
    "                               'ds': pd.to_datetime(easter_dates),\n",
    "                               'lower_windows': -5,\n",
    "                               'upper_windows': 2})\n",
    "easter.head(2)"
   ]
  },
  {
   "cell_type": "code",
   "execution_count": 23,
   "metadata": {},
   "outputs": [
    {
     "data": {
      "text/html": [
       "<div>\n",
       "<style scoped>\n",
       "    .dataframe tbody tr th:only-of-type {\n",
       "        vertical-align: middle;\n",
       "    }\n",
       "\n",
       "    .dataframe tbody tr th {\n",
       "        vertical-align: top;\n",
       "    }\n",
       "\n",
       "    .dataframe thead th {\n",
       "        text-align: right;\n",
       "    }\n",
       "</style>\n",
       "<table border=\"1\" class=\"dataframe\">\n",
       "  <thead>\n",
       "    <tr style=\"text-align: right;\">\n",
       "      <th></th>\n",
       "      <th>holiday</th>\n",
       "      <th>ds</th>\n",
       "      <th>lower_windows</th>\n",
       "      <th>upper_windows</th>\n",
       "    </tr>\n",
       "  </thead>\n",
       "  <tbody>\n",
       "    <tr>\n",
       "      <th>330</th>\n",
       "      <td>thanksgiving</td>\n",
       "      <td>2014-11-27</td>\n",
       "      <td>-5</td>\n",
       "      <td>2</td>\n",
       "    </tr>\n",
       "    <tr>\n",
       "      <th>694</th>\n",
       "      <td>thanksgiving</td>\n",
       "      <td>2015-11-26</td>\n",
       "      <td>-5</td>\n",
       "      <td>2</td>\n",
       "    </tr>\n",
       "  </tbody>\n",
       "</table>\n",
       "</div>"
      ],
      "text/plain": [
       "          holiday         ds  lower_windows  upper_windows\n",
       "330  thanksgiving 2014-11-27             -5              2\n",
       "694  thanksgiving 2015-11-26             -5              2"
      ]
     },
     "execution_count": 23,
     "metadata": {},
     "output_type": "execute_result"
    }
   ],
   "source": [
    "#Thanksgiving\n",
    "thanksgiving_dates = dataset[dataset.Thanksgiving == 1].ds\n",
    "Thanksgiving = pd.DataFrame({'holiday': 'thanksgiving',\n",
    "                               'ds': pd.to_datetime(thanksgiving_dates),\n",
    "                               'lower_windows': -5,\n",
    "                               'upper_windows': 2})\n",
    "Thanksgiving.head(2)"
   ]
  },
  {
   "cell_type": "code",
   "execution_count": 24,
   "metadata": {},
   "outputs": [
    {
     "data": {
      "text/html": [
       "<div>\n",
       "<style scoped>\n",
       "    .dataframe tbody tr th:only-of-type {\n",
       "        vertical-align: middle;\n",
       "    }\n",
       "\n",
       "    .dataframe tbody tr th {\n",
       "        vertical-align: top;\n",
       "    }\n",
       "\n",
       "    .dataframe thead th {\n",
       "        text-align: right;\n",
       "    }\n",
       "</style>\n",
       "<table border=\"1\" class=\"dataframe\">\n",
       "  <thead>\n",
       "    <tr style=\"text-align: right;\">\n",
       "      <th></th>\n",
       "      <th>holiday</th>\n",
       "      <th>ds</th>\n",
       "      <th>lower_windows</th>\n",
       "      <th>upper_windows</th>\n",
       "    </tr>\n",
       "  </thead>\n",
       "  <tbody>\n",
       "    <tr>\n",
       "      <th>109</th>\n",
       "      <td>easter</td>\n",
       "      <td>2014-04-20</td>\n",
       "      <td>-5</td>\n",
       "      <td>2</td>\n",
       "    </tr>\n",
       "    <tr>\n",
       "      <th>459</th>\n",
       "      <td>easter</td>\n",
       "      <td>2015-04-05</td>\n",
       "      <td>-5</td>\n",
       "      <td>2</td>\n",
       "    </tr>\n",
       "    <tr>\n",
       "      <th>816</th>\n",
       "      <td>easter</td>\n",
       "      <td>2016-03-27</td>\n",
       "      <td>-5</td>\n",
       "      <td>2</td>\n",
       "    </tr>\n",
       "    <tr>\n",
       "      <th>1201</th>\n",
       "      <td>easter</td>\n",
       "      <td>2017-04-16</td>\n",
       "      <td>-5</td>\n",
       "      <td>2</td>\n",
       "    </tr>\n",
       "    <tr>\n",
       "      <th>1551</th>\n",
       "      <td>easter</td>\n",
       "      <td>2018-04-01</td>\n",
       "      <td>-5</td>\n",
       "      <td>2</td>\n",
       "    </tr>\n",
       "    <tr>\n",
       "      <th>1936</th>\n",
       "      <td>easter</td>\n",
       "      <td>2019-04-21</td>\n",
       "      <td>-5</td>\n",
       "      <td>2</td>\n",
       "    </tr>\n",
       "    <tr>\n",
       "      <th>2293</th>\n",
       "      <td>easter</td>\n",
       "      <td>2020-04-12</td>\n",
       "      <td>-5</td>\n",
       "      <td>2</td>\n",
       "    </tr>\n",
       "    <tr>\n",
       "      <th>330</th>\n",
       "      <td>thanksgiving</td>\n",
       "      <td>2014-11-27</td>\n",
       "      <td>-5</td>\n",
       "      <td>2</td>\n",
       "    </tr>\n",
       "    <tr>\n",
       "      <th>694</th>\n",
       "      <td>thanksgiving</td>\n",
       "      <td>2015-11-26</td>\n",
       "      <td>-5</td>\n",
       "      <td>2</td>\n",
       "    </tr>\n",
       "    <tr>\n",
       "      <th>1058</th>\n",
       "      <td>thanksgiving</td>\n",
       "      <td>2016-11-24</td>\n",
       "      <td>-5</td>\n",
       "      <td>2</td>\n",
       "    </tr>\n",
       "    <tr>\n",
       "      <th>1422</th>\n",
       "      <td>thanksgiving</td>\n",
       "      <td>2017-11-23</td>\n",
       "      <td>-5</td>\n",
       "      <td>2</td>\n",
       "    </tr>\n",
       "    <tr>\n",
       "      <th>1786</th>\n",
       "      <td>thanksgiving</td>\n",
       "      <td>2018-11-22</td>\n",
       "      <td>-5</td>\n",
       "      <td>2</td>\n",
       "    </tr>\n",
       "    <tr>\n",
       "      <th>2157</th>\n",
       "      <td>thanksgiving</td>\n",
       "      <td>2019-11-28</td>\n",
       "      <td>-5</td>\n",
       "      <td>2</td>\n",
       "    </tr>\n",
       "    <tr>\n",
       "      <th>2521</th>\n",
       "      <td>thanksgiving</td>\n",
       "      <td>2020-11-26</td>\n",
       "      <td>-5</td>\n",
       "      <td>2</td>\n",
       "    </tr>\n",
       "  </tbody>\n",
       "</table>\n",
       "</div>"
      ],
      "text/plain": [
       "           holiday         ds  lower_windows  upper_windows\n",
       "109         easter 2014-04-20             -5              2\n",
       "459         easter 2015-04-05             -5              2\n",
       "816         easter 2016-03-27             -5              2\n",
       "1201        easter 2017-04-16             -5              2\n",
       "1551        easter 2018-04-01             -5              2\n",
       "1936        easter 2019-04-21             -5              2\n",
       "2293        easter 2020-04-12             -5              2\n",
       "330   thanksgiving 2014-11-27             -5              2\n",
       "694   thanksgiving 2015-11-26             -5              2\n",
       "1058  thanksgiving 2016-11-24             -5              2\n",
       "1422  thanksgiving 2017-11-23             -5              2\n",
       "1786  thanksgiving 2018-11-22             -5              2\n",
       "2157  thanksgiving 2019-11-28             -5              2\n",
       "2521  thanksgiving 2020-11-26             -5              2"
      ]
     },
     "execution_count": 24,
     "metadata": {},
     "output_type": "execute_result"
    }
   ],
   "source": [
    "#combine holidays\n",
    "holidays = pd.concat([easter, Thanksgiving])\n",
    "holidays"
   ]
  },
  {
   "attachments": {},
   "cell_type": "markdown",
   "metadata": {},
   "source": [
    "3. Create Prophet model. Christmas is a regressor"
   ]
  },
  {
   "cell_type": "code",
   "execution_count": 25,
   "metadata": {},
   "outputs": [
    {
     "name": "stderr",
     "output_type": "stream",
     "text": [
      "19:08:31 - cmdstanpy - INFO - Chain [1] start processing\n",
      "19:08:32 - cmdstanpy - INFO - Chain [1] done processing\n"
     ]
    },
    {
     "data": {
      "text/plain": [
       "<prophet.forecaster.Prophet at 0x1de523942e0>"
      ]
     },
     "execution_count": 25,
     "metadata": {},
     "output_type": "execute_result"
    }
   ],
   "source": [
    "m = Prophet(holidays = holidays,\n",
    "            seasonality_mode=\"multiplicative\", \n",
    "            seasonality_prior_scale=10, \n",
    "            holidays_prior_scale=10, \n",
    "            changepoint_prior_scale=0.05)\n",
    "m.add_regressor('Christmas')\n",
    "m.fit(df)"
   ]
  },
  {
   "attachments": {},
   "cell_type": "markdown",
   "metadata": {},
   "source": [
    "4. Cross-Validation. Horizon = 31, initial = 2400. \n",
    "Assess via MAE"
   ]
  },
  {
   "cell_type": "code",
   "execution_count": 26,
   "metadata": {},
   "outputs": [
    {
     "data": {
      "text/html": [
       "<div>\n",
       "<style scoped>\n",
       "    .dataframe tbody tr th:only-of-type {\n",
       "        vertical-align: middle;\n",
       "    }\n",
       "\n",
       "    .dataframe tbody tr th {\n",
       "        vertical-align: top;\n",
       "    }\n",
       "\n",
       "    .dataframe thead th {\n",
       "        text-align: right;\n",
       "    }\n",
       "</style>\n",
       "<table border=\"1\" class=\"dataframe\">\n",
       "  <thead>\n",
       "    <tr style=\"text-align: right;\">\n",
       "      <th></th>\n",
       "      <th>ds</th>\n",
       "      <th>yhat</th>\n",
       "      <th>yhat_lower</th>\n",
       "      <th>yhat_upper</th>\n",
       "      <th>y</th>\n",
       "      <th>cutoff</th>\n",
       "    </tr>\n",
       "  </thead>\n",
       "  <tbody>\n",
       "    <tr>\n",
       "      <th>0</th>\n",
       "      <td>2020-07-31</td>\n",
       "      <td>56064.409895</td>\n",
       "      <td>55780.761155</td>\n",
       "      <td>56333.856099</td>\n",
       "      <td>54930</td>\n",
       "      <td>2020-07-30</td>\n",
       "    </tr>\n",
       "    <tr>\n",
       "      <th>1</th>\n",
       "      <td>2020-08-01</td>\n",
       "      <td>56048.226539</td>\n",
       "      <td>55793.589192</td>\n",
       "      <td>56300.499939</td>\n",
       "      <td>54810</td>\n",
       "      <td>2020-07-30</td>\n",
       "    </tr>\n",
       "    <tr>\n",
       "      <th>2</th>\n",
       "      <td>2020-08-02</td>\n",
       "      <td>56170.966714</td>\n",
       "      <td>55905.134326</td>\n",
       "      <td>56427.115355</td>\n",
       "      <td>54956</td>\n",
       "      <td>2020-07-30</td>\n",
       "    </tr>\n",
       "    <tr>\n",
       "      <th>3</th>\n",
       "      <td>2020-08-03</td>\n",
       "      <td>56226.185716</td>\n",
       "      <td>55966.346755</td>\n",
       "      <td>56496.605885</td>\n",
       "      <td>54978</td>\n",
       "      <td>2020-07-30</td>\n",
       "    </tr>\n",
       "    <tr>\n",
       "      <th>4</th>\n",
       "      <td>2020-08-04</td>\n",
       "      <td>56217.954028</td>\n",
       "      <td>55965.062102</td>\n",
       "      <td>56483.333360</td>\n",
       "      <td>54943</td>\n",
       "      <td>2020-07-30</td>\n",
       "    </tr>\n",
       "  </tbody>\n",
       "</table>\n",
       "</div>"
      ],
      "text/plain": [
       "          ds          yhat    yhat_lower    yhat_upper      y     cutoff\n",
       "0 2020-07-31  56064.409895  55780.761155  56333.856099  54930 2020-07-30\n",
       "1 2020-08-01  56048.226539  55793.589192  56300.499939  54810 2020-07-30\n",
       "2 2020-08-02  56170.966714  55905.134326  56427.115355  54956 2020-07-30\n",
       "3 2020-08-03  56226.185716  55966.346755  56496.605885  54978 2020-07-30\n",
       "4 2020-08-04  56217.954028  55965.062102  56483.333360  54943 2020-07-30"
      ]
     },
     "execution_count": 26,
     "metadata": {},
     "output_type": "execute_result"
    }
   ],
   "source": [
    "#CV\n",
    "from prophet.diagnostics import cross_validation\n",
    "df_cv = cross_validation(m,\n",
    "                         horizon='31 days', # cuantos días en el futuro pronosticamos?\n",
    "                         initial= '2400 days', # a que dist. comenzamos la valid.cruzada? tiene sentido que siempre al menos dejemos un período completo\n",
    "                         parallel= \"processes\")\n",
    "df_cv.head()"
   ]
  },
  {
   "cell_type": "code",
   "execution_count": 28,
   "metadata": {},
   "outputs": [
    {
     "data": {
      "text/plain": [
       "1996.86796116217"
      ]
     },
     "execution_count": 28,
     "metadata": {},
     "output_type": "execute_result"
    }
   ],
   "source": [
    "# Assess model\n",
    "from sklearn.metrics import mean_absolute_error\n",
    "mean_absolute_error(df_cv.y, df_cv.yhat)"
   ]
  },
  {
   "attachments": {},
   "cell_type": "markdown",
   "metadata": {},
   "source": [
    "Si vemos algun ejemplo, 2k es un buen promedio respecto a los 50689 del 2014-01-01. De todas maneras es posible que podamos mejorarlo"
   ]
  },
  {
   "attachments": {},
   "cell_type": "markdown",
   "metadata": {},
   "source": [
    "5. Create Parameter Grid for Tuning"
   ]
  },
  {
   "cell_type": "code",
   "execution_count": 29,
   "metadata": {},
   "outputs": [],
   "source": [
    "#Parameters\n",
    "from sklearn.model_selection import ParameterGrid\n",
    "param_grid = {'seasonality_prior_scale': [10, 20],\n",
    "              'changepoint_prior_scale': [0.05, 0.1],\n",
    "              'holidays_prior_scale': [10, 20],}\n",
    "grid = ParameterGrid(param_grid)"
   ]
  },
  {
   "attachments": {},
   "cell_type": "markdown",
   "metadata": {},
   "source": [
    "6. Perform Hyperparameter Tuning. Use MAE as the KPI to Optimize.\n",
    "Gather results"
   ]
  },
  {
   "cell_type": "code",
   "execution_count": 30,
   "metadata": {},
   "outputs": [
    {
     "name": "stderr",
     "output_type": "stream",
     "text": [
      "19:24:39 - cmdstanpy - INFO - Chain [1] start processing\n",
      "19:24:40 - cmdstanpy - INFO - Chain [1] done processing\n",
      "19:24:49 - cmdstanpy - INFO - Chain [1] start processing\n",
      "19:24:50 - cmdstanpy - INFO - Chain [1] done processing\n",
      "19:24:59 - cmdstanpy - INFO - Chain [1] start processing\n",
      "19:25:00 - cmdstanpy - INFO - Chain [1] done processing\n",
      "19:25:10 - cmdstanpy - INFO - Chain [1] start processing\n",
      "19:25:11 - cmdstanpy - INFO - Chain [1] done processing\n",
      "19:25:20 - cmdstanpy - INFO - Chain [1] start processing\n",
      "19:25:22 - cmdstanpy - INFO - Chain [1] done processing\n",
      "19:25:30 - cmdstanpy - INFO - Chain [1] start processing\n",
      "19:25:32 - cmdstanpy - INFO - Chain [1] done processing\n",
      "19:25:41 - cmdstanpy - INFO - Chain [1] start processing\n",
      "19:25:42 - cmdstanpy - INFO - Chain [1] done processing\n",
      "19:25:51 - cmdstanpy - INFO - Chain [1] start processing\n",
      "19:25:53 - cmdstanpy - INFO - Chain [1] done processing\n"
     ]
    }
   ],
   "source": [
    "# Hyper parameter tuning\n",
    "mae = []\n",
    "for params in grid:\n",
    "    #Build the model\n",
    "    m = Prophet(holidays= holidays, \n",
    "            seasonality_mode=\"multiplicative\", \n",
    "            seasonality_prior_scale=params['seasonality_prior_scale'],\n",
    "            holidays_prior_scale=params['holidays_prior_scale'], \n",
    "            changepoint_prior_scale=params['changepoint_prior_scale'])\n",
    "    m.add_regressor('Christmas')\n",
    "    m.fit(df)\n",
    "\n",
    "    #Cross-Validation (siempre para que no sea casualidad de que obtengamos un bueno o malo resultado)\n",
    "        \n",
    "    df_cv = cross_validation(m,\n",
    "                         horizon='31 days', # cuantos días en el futuro pronosticamos?\n",
    "                         initial= '2400 days', # a que dist. comenzamos la valid.cruzada? tiene sentido que siempre al menos dejemos un período completo\n",
    "                         parallel= \"processes\")\n",
    "    \n",
    "    #Gather the results\n",
    "    error = mean_absolute_error(df_cv.y, df_cv.yhat)\n",
    "    mae.append(error)\n"
   ]
  },
  {
   "cell_type": "code",
   "execution_count": 31,
   "metadata": {},
   "outputs": [
    {
     "name": "stdout",
     "output_type": "stream",
     "text": [
      "{'seasonality_prior_scale': 20, 'holidays_prior_scale': 20, 'changepoint_prior_scale': 0.1}\n"
     ]
    }
   ],
   "source": [
    "# best parameters\n",
    "best_params = grid[np.argmin(mae)]\n",
    "print(best_params)"
   ]
  },
  {
   "attachments": {},
   "cell_type": "markdown",
   "metadata": {},
   "source": []
  }
 ],
 "metadata": {
  "kernelspec": {
   "display_name": "Python 3",
   "language": "python",
   "name": "python3"
  },
  "language_info": {
   "codemirror_mode": {
    "name": "ipython",
    "version": 3
   },
   "file_extension": ".py",
   "mimetype": "text/x-python",
   "name": "python",
   "nbconvert_exporter": "python",
   "pygments_lexer": "ipython3",
   "version": "3.10.9"
  },
  "orig_nbformat": 4
 },
 "nbformat": 4,
 "nbformat_minor": 2
}
